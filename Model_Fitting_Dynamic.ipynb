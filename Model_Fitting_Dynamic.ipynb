{
 "cells": [
  {
   "cell_type": "markdown",
   "metadata": {},
   "source": [
    "Fitting models for dynamically selected datasets"
   ]
  },
  {
   "cell_type": "code",
   "execution_count": 1,
   "metadata": {},
   "outputs": [
    {
     "name": "stdout",
     "output_type": "stream",
     "text": [
      "\n",
      "🔍 Processing fri_c1_500_50...\n",
      "✅ LinearRegression predictions saved.\n",
      "✅ DecisionTree predictions saved.\n",
      "✅ KNN predictions saved.\n"
     ]
    },
    {
     "name": "stderr",
     "output_type": "stream",
     "text": [
      "c:\\Users\\25644574\\AppData\\Local\\Programs\\Python\\Python313\\Lib\\site-packages\\sklearn\\neural_network\\_multilayer_perceptron.py:691: ConvergenceWarning: Stochastic Optimizer: Maximum iterations (200) reached and the optimization hasn't converged yet.\n",
      "  warnings.warn(\n"
     ]
    },
    {
     "name": "stdout",
     "output_type": "stream",
     "text": [
      "✅ MLP predictions saved.\n",
      "\n",
      "🔍 Processing fri_c3_1000_50...\n",
      "✅ LinearRegression predictions saved.\n",
      "✅ DecisionTree predictions saved.\n",
      "✅ KNN predictions saved.\n"
     ]
    },
    {
     "name": "stderr",
     "output_type": "stream",
     "text": [
      "c:\\Users\\25644574\\AppData\\Local\\Programs\\Python\\Python313\\Lib\\site-packages\\sklearn\\neural_network\\_multilayer_perceptron.py:691: ConvergenceWarning: Stochastic Optimizer: Maximum iterations (200) reached and the optimization hasn't converged yet.\n",
      "  warnings.warn(\n"
     ]
    },
    {
     "name": "stdout",
     "output_type": "stream",
     "text": [
      "✅ MLP predictions saved.\n",
      "\n",
      "🔍 Processing fri_c4_500_50...\n",
      "✅ LinearRegression predictions saved.\n",
      "✅ DecisionTree predictions saved.\n",
      "✅ KNN predictions saved.\n"
     ]
    },
    {
     "name": "stderr",
     "output_type": "stream",
     "text": [
      "c:\\Users\\25644574\\AppData\\Local\\Programs\\Python\\Python313\\Lib\\site-packages\\sklearn\\neural_network\\_multilayer_perceptron.py:691: ConvergenceWarning: Stochastic Optimizer: Maximum iterations (200) reached and the optimization hasn't converged yet.\n",
      "  warnings.warn(\n"
     ]
    },
    {
     "name": "stdout",
     "output_type": "stream",
     "text": [
      "✅ MLP predictions saved.\n",
      "\n",
      "🔍 Processing fri_c4_1000_50...\n",
      "✅ LinearRegression predictions saved.\n",
      "✅ DecisionTree predictions saved.\n",
      "✅ KNN predictions saved.\n"
     ]
    },
    {
     "name": "stderr",
     "output_type": "stream",
     "text": [
      "c:\\Users\\25644574\\AppData\\Local\\Programs\\Python\\Python313\\Lib\\site-packages\\sklearn\\neural_network\\_multilayer_perceptron.py:691: ConvergenceWarning: Stochastic Optimizer: Maximum iterations (200) reached and the optimization hasn't converged yet.\n",
      "  warnings.warn(\n"
     ]
    },
    {
     "name": "stdout",
     "output_type": "stream",
     "text": [
      "✅ MLP predictions saved.\n",
      "\n",
      "🔍 Processing fri_c2_1000_25...\n",
      "✅ LinearRegression predictions saved.\n",
      "✅ DecisionTree predictions saved.\n",
      "✅ KNN predictions saved.\n"
     ]
    },
    {
     "name": "stderr",
     "output_type": "stream",
     "text": [
      "c:\\Users\\25644574\\AppData\\Local\\Programs\\Python\\Python313\\Lib\\site-packages\\sklearn\\neural_network\\_multilayer_perceptron.py:691: ConvergenceWarning: Stochastic Optimizer: Maximum iterations (200) reached and the optimization hasn't converged yet.\n",
      "  warnings.warn(\n"
     ]
    },
    {
     "name": "stdout",
     "output_type": "stream",
     "text": [
      "✅ MLP predictions saved.\n",
      "\n",
      "🔍 Processing fri_c1_1000_25...\n",
      "✅ LinearRegression predictions saved.\n",
      "✅ DecisionTree predictions saved.\n",
      "✅ KNN predictions saved.\n"
     ]
    },
    {
     "name": "stderr",
     "output_type": "stream",
     "text": [
      "c:\\Users\\25644574\\AppData\\Local\\Programs\\Python\\Python313\\Lib\\site-packages\\sklearn\\neural_network\\_multilayer_perceptron.py:691: ConvergenceWarning: Stochastic Optimizer: Maximum iterations (200) reached and the optimization hasn't converged yet.\n",
      "  warnings.warn(\n"
     ]
    },
    {
     "name": "stdout",
     "output_type": "stream",
     "text": [
      "✅ MLP predictions saved.\n",
      "\n",
      "🔍 Processing fri_c3_1000_25...\n",
      "✅ LinearRegression predictions saved.\n",
      "✅ DecisionTree predictions saved.\n",
      "✅ KNN predictions saved.\n"
     ]
    },
    {
     "name": "stderr",
     "output_type": "stream",
     "text": [
      "c:\\Users\\25644574\\AppData\\Local\\Programs\\Python\\Python313\\Lib\\site-packages\\sklearn\\neural_network\\_multilayer_perceptron.py:691: ConvergenceWarning: Stochastic Optimizer: Maximum iterations (200) reached and the optimization hasn't converged yet.\n",
      "  warnings.warn(\n",
      "c:\\Users\\25644574\\AppData\\Local\\Programs\\Python\\Python313\\Lib\\site-packages\\sklearn\\neural_network\\_multilayer_perceptron.py:691: ConvergenceWarning: Stochastic Optimizer: Maximum iterations (200) reached and the optimization hasn't converged yet.\n",
      "  warnings.warn(\n",
      "c:\\Users\\25644574\\AppData\\Local\\Programs\\Python\\Python313\\Lib\\site-packages\\sklearn\\neural_network\\_multilayer_perceptron.py:1650: DataConversionWarning: A column-vector y was passed when a 1d array was expected. Please change the shape of y to (n_samples, ), for example using ravel().\n",
      "  y = column_or_1d(y, warn=True)\n"
     ]
    },
    {
     "name": "stdout",
     "output_type": "stream",
     "text": [
      "✅ MLP predictions saved.\n",
      "\n",
      "🔍 Processing BodyFat...\n",
      "✅ LinearRegression predictions saved.\n",
      "✅ DecisionTree predictions saved.\n",
      "✅ KNN predictions saved.\n",
      "✅ MLP predictions saved.\n",
      "\n",
      "🔍 Processing Forest_Fires...\n",
      "✅ LinearRegression predictions saved.\n",
      "✅ DecisionTree predictions saved.\n",
      "✅ KNN predictions saved.\n"
     ]
    },
    {
     "name": "stderr",
     "output_type": "stream",
     "text": [
      "c:\\Users\\25644574\\AppData\\Local\\Programs\\Python\\Python313\\Lib\\site-packages\\sklearn\\neural_network\\_multilayer_perceptron.py:691: ConvergenceWarning: Stochastic Optimizer: Maximum iterations (200) reached and the optimization hasn't converged yet.\n",
      "  warnings.warn(\n"
     ]
    },
    {
     "name": "stdout",
     "output_type": "stream",
     "text": [
      "✅ MLP predictions saved.\n",
      "\n",
      "🔍 Processing Quakes...\n",
      "✅ LinearRegression predictions saved.\n",
      "✅ DecisionTree predictions saved.\n",
      "✅ KNN predictions saved.\n",
      "✅ MLP predictions saved.\n",
      "\n",
      "🔍 Processing Servo...\n",
      "✅ LinearRegression predictions saved.\n",
      "✅ DecisionTree predictions saved.\n",
      "✅ KNN predictions saved.\n",
      "✅ MLP predictions saved.\n",
      "\n",
      "🔍 Processing auto93...\n",
      "✅ LinearRegression predictions saved.\n",
      "✅ DecisionTree predictions saved.\n",
      "✅ KNN predictions saved.\n",
      "✅ MLP predictions saved.\n",
      "\n",
      "🔍 Processing autoPrice...\n",
      "✅ LinearRegression predictions saved.\n",
      "✅ DecisionTree predictions saved.\n",
      "✅ KNN predictions saved.\n",
      "✅ MLP predictions saved.\n",
      "\n",
      "🔍 Processing autoMPG...\n",
      "✅ LinearRegression predictions saved.\n",
      "✅ DecisionTree predictions saved.\n",
      "✅ KNN predictions saved.\n"
     ]
    },
    {
     "name": "stderr",
     "output_type": "stream",
     "text": [
      "c:\\Users\\25644574\\AppData\\Local\\Programs\\Python\\Python313\\Lib\\site-packages\\sklearn\\neural_network\\_multilayer_perceptron.py:1650: DataConversionWarning: A column-vector y was passed when a 1d array was expected. Please change the shape of y to (n_samples, ), for example using ravel().\n",
      "  y = column_or_1d(y, warn=True)\n",
      "c:\\Users\\25644574\\AppData\\Local\\Programs\\Python\\Python313\\Lib\\site-packages\\sklearn\\neural_network\\_multilayer_perceptron.py:691: ConvergenceWarning: Stochastic Optimizer: Maximum iterations (200) reached and the optimization hasn't converged yet.\n",
      "  warnings.warn(\n",
      "c:\\Users\\25644574\\AppData\\Local\\Programs\\Python\\Python313\\Lib\\site-packages\\sklearn\\neural_network\\_multilayer_perceptron.py:691: ConvergenceWarning: Stochastic Optimizer: Maximum iterations (200) reached and the optimization hasn't converged yet.\n",
      "  warnings.warn(\n",
      "c:\\Users\\25644574\\AppData\\Local\\Programs\\Python\\Python313\\Lib\\site-packages\\sklearn\\neural_network\\_multilayer_perceptron.py:1650: DataConversionWarning: A column-vector y was passed when a 1d array was expected. Please change the shape of y to (n_samples, ), for example using ravel().\n",
      "  y = column_or_1d(y, warn=True)\n",
      "c:\\Users\\25644574\\AppData\\Local\\Programs\\Python\\Python313\\Lib\\site-packages\\sklearn\\neural_network\\_multilayer_perceptron.py:691: ConvergenceWarning: Stochastic Optimizer: Maximum iterations (200) reached and the optimization hasn't converged yet.\n",
      "  warnings.warn(\n",
      "c:\\Users\\25644574\\AppData\\Local\\Programs\\Python\\Python313\\Lib\\site-packages\\sklearn\\neural_network\\_multilayer_perceptron.py:1650: DataConversionWarning: A column-vector y was passed when a 1d array was expected. Please change the shape of y to (n_samples, ), for example using ravel().\n",
      "  y = column_or_1d(y, warn=True)\n"
     ]
    },
    {
     "name": "stdout",
     "output_type": "stream",
     "text": [
      "✅ MLP predictions saved.\n",
      "\n",
      "🔍 Processing Concrete_Compressive_Strength...\n",
      "✅ LinearRegression predictions saved.\n",
      "✅ DecisionTree predictions saved.\n",
      "✅ KNN predictions saved.\n"
     ]
    },
    {
     "name": "stderr",
     "output_type": "stream",
     "text": [
      "c:\\Users\\25644574\\AppData\\Local\\Programs\\Python\\Python313\\Lib\\site-packages\\sklearn\\neural_network\\_multilayer_perceptron.py:691: ConvergenceWarning: Stochastic Optimizer: Maximum iterations (200) reached and the optimization hasn't converged yet.\n",
      "  warnings.warn(\n",
      "c:\\Users\\25644574\\AppData\\Local\\Programs\\Python\\Python313\\Lib\\site-packages\\sklearn\\neural_network\\_multilayer_perceptron.py:1650: DataConversionWarning: A column-vector y was passed when a 1d array was expected. Please change the shape of y to (n_samples, ), for example using ravel().\n",
      "  y = column_or_1d(y, warn=True)\n"
     ]
    },
    {
     "name": "stdout",
     "output_type": "stream",
     "text": [
      "✅ MLP predictions saved.\n",
      "\n",
      "🔍 Processing Airfoil_Self_Noise...\n",
      "✅ LinearRegression predictions saved.\n",
      "✅ DecisionTree predictions saved.\n",
      "✅ KNN predictions saved.\n"
     ]
    },
    {
     "name": "stderr",
     "output_type": "stream",
     "text": [
      "c:\\Users\\25644574\\AppData\\Local\\Programs\\Python\\Python313\\Lib\\site-packages\\sklearn\\neural_network\\_multilayer_perceptron.py:691: ConvergenceWarning: Stochastic Optimizer: Maximum iterations (200) reached and the optimization hasn't converged yet.\n",
      "  warnings.warn(\n",
      "c:\\Users\\25644574\\AppData\\Local\\Programs\\Python\\Python313\\Lib\\site-packages\\sklearn\\neural_network\\_multilayer_perceptron.py:1650: DataConversionWarning: A column-vector y was passed when a 1d array was expected. Please change the shape of y to (n_samples, ), for example using ravel().\n",
      "  y = column_or_1d(y, warn=True)\n"
     ]
    },
    {
     "name": "stdout",
     "output_type": "stream",
     "text": [
      "✅ MLP predictions saved.\n",
      "\n",
      "🔍 Processing pyrim...\n",
      "✅ LinearRegression predictions saved.\n",
      "✅ DecisionTree predictions saved.\n",
      "✅ KNN predictions saved.\n",
      "✅ MLP predictions saved.\n",
      "\n",
      "🔍 Processing boston...\n",
      "✅ LinearRegression predictions saved.\n",
      "✅ DecisionTree predictions saved.\n",
      "✅ KNN predictions saved.\n",
      "✅ MLP predictions saved.\n",
      "\n",
      "🔍 Processing Wine_Quality...\n",
      "✅ LinearRegression predictions saved.\n",
      "✅ DecisionTree predictions saved.\n",
      "✅ KNN predictions saved.\n",
      "✅ MLP predictions saved.\n",
      "\n",
      "🔍 Processing California_Housing...\n",
      "✅ LinearRegression predictions saved.\n",
      "✅ DecisionTree predictions saved.\n",
      "✅ KNN predictions saved.\n",
      "✅ MLP predictions saved.\n",
      "\n",
      "📦 All predictions saved to 'Data/dynamic_model_predictions.pkl'\n"
     ]
    }
   ],
   "source": [
    "import pickle\n",
    "from sklearn.linear_model import LinearRegression\n",
    "from sklearn.tree import DecisionTreeRegressor\n",
    "from sklearn.neighbors import KNeighborsRegressor\n",
    "from sklearn.neural_network import MLPRegressor\n",
    "\n",
    "# Load dynamically selected feature data\n",
    "with open(\"Data/dynamic_selected_features.pkl\", \"rb\") as f:\n",
    "    selected_data = pickle.load(f)\n",
    "\n",
    "# Models to train\n",
    "models = {\n",
    "    \"LinearRegression\": LinearRegression(),\n",
    "    \"DecisionTree\": DecisionTreeRegressor(random_state=42),\n",
    "    \"KNN\": KNeighborsRegressor(),\n",
    "    \"MLP\": MLPRegressor(random_state=42)\n",
    "}\n",
    "\n",
    "# Store predictions\n",
    "all_predictions = {}\n",
    "\n",
    "# Iterate through datasets\n",
    "for dataset_name, data in selected_data.items():\n",
    "    print(f\"\\n🔍 Processing {dataset_name}...\")\n",
    "\n",
    "    try:\n",
    "        X_train = data[\"X_train\"]\n",
    "        X_val = data[\"X_val\"]\n",
    "        X_test = data[\"X_test\"]\n",
    "        y_train = data[\"y_train\"]\n",
    "        y_val = data[\"y_val\"]\n",
    "        y_test = data[\"y_test\"]\n",
    "\n",
    "        dataset_predictions = {}\n",
    "\n",
    "        for model_name, model in models.items():\n",
    "            model.fit(X_train, y_train)\n",
    "\n",
    "            y_train_pred = model.predict(X_train)\n",
    "            y_val_pred = model.predict(X_val)\n",
    "            y_test_pred = model.predict(X_test)\n",
    "\n",
    "            dataset_predictions[model_name] = {\n",
    "                \"y_train\": y_train,\n",
    "                \"y_train_pred\": y_train_pred,\n",
    "                \"y_val\": y_val,\n",
    "                \"y_val_pred\": y_val_pred,\n",
    "                \"y_test\": y_test,\n",
    "                \"y_test_pred\": y_test_pred,\n",
    "            }\n",
    "\n",
    "            print(f\"✅ {model_name} predictions saved.\")\n",
    "\n",
    "        all_predictions[dataset_name] = {\n",
    "                \"k\": data.get(\"k\", \"N/A\"),\n",
    "                **dataset_predictions\n",
    "            }\n",
    "\n",
    "\n",
    "    except Exception as e:\n",
    "        print(f\"❌ Error processing {dataset_name}: {e}\")\n",
    "\n",
    "# Save predictions to file\n",
    "with open(\"Data/dynamic_model_predictions.pkl\", \"wb\") as f:\n",
    "    pickle.dump(all_predictions, f)\n",
    "\n",
    "print(\"\\n📦 All predictions saved to 'Data/dynamic_model_predictions.pkl'\")"
   ]
  }
 ],
 "metadata": {
  "kernelspec": {
   "display_name": "Python 3",
   "language": "python",
   "name": "python3"
  },
  "language_info": {
   "codemirror_mode": {
    "name": "ipython",
    "version": 3
   },
   "file_extension": ".py",
   "mimetype": "text/x-python",
   "name": "python",
   "nbconvert_exporter": "python",
   "pygments_lexer": "ipython3",
   "version": "3.13.1"
  }
 },
 "nbformat": 4,
 "nbformat_minor": 2
}
