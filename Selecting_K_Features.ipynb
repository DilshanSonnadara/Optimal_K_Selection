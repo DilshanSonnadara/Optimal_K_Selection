{
 "cells": [
  {
   "cell_type": "markdown",
   "metadata": {},
   "source": [
    "Checking if there are any categorical variables in our data"
   ]
  },
  {
   "cell_type": "code",
   "execution_count": null,
   "metadata": {},
   "outputs": [],
   "source": [
    "import pickle\n",
    "\n",
    "# Load the split_data dictionary\n",
    "with open(\"Data/split_data.pkl\", \"rb\") as f:\n",
    "    split_data = pickle.load(f)\n",
    "\n",
    "# Print variable types for X_train of each dataset\n",
    "for name, data in split_data.items():\n",
    "    X_train = data[\"X_train\"]\n",
    "    dtypes = X_train.dtypes.unique()\n",
    "    print(f\"\\n{name} — Unique data types in X_train:\")\n",
    "    print(dtypes)"
   ]
  },
  {
   "cell_type": "code",
   "execution_count": null,
   "metadata": {},
   "outputs": [],
   "source": []
  }
 ],
 "metadata": {
  "kernelspec": {
   "display_name": "Python 3",
   "language": "python",
   "name": "python3"
  },
  "language_info": {
   "name": "python",
   "version": "3.13.1"
  }
 },
 "nbformat": 4,
 "nbformat_minor": 2
}
