{
 "cells": [
  {
   "cell_type": "code",
   "execution_count": null,
   "metadata": {},
   "outputs": [
    {
     "name": "stderr",
     "output_type": "stream",
     "text": [
      "c:\\Users\\25644574\\AppData\\Local\\Programs\\Python\\Python313\\Lib\\site-packages\\openml\\tasks\\functions.py:234: RuntimeWarning: Invalid xml for task 362155: 0\n",
      "From {'oml:task_id': '362155', 'oml:task_type_id': '1', 'oml:task_type': 'Supervised Classification', 'oml:did': '31', 'oml:name': 'credit-g', 'oml:status': 'active', 'oml:format': 'ARFF', 'oml:input': [{'@name': 'estimation_procedure', '#text': '0'}, {'@name': 'source_data', '#text': '31'}, {'@name': 'target_feature', '#text': 'classification problem'}], 'oml:quality': [{'@name': 'MajorityClassSize', '#text': '700.0'}, {'@name': 'MaxNominalAttDistinctValues', '#text': '10.0'}, {'@name': 'MinorityClassSize', '#text': '300.0'}, {'@name': 'NumberOfClasses', '#text': '2.0'}, {'@name': 'NumberOfFeatures', '#text': '21.0'}, {'@name': 'NumberOfInstances', '#text': '1000.0'}, {'@name': 'NumberOfInstancesWithMissingValues', '#text': '0.0'}, {'@name': 'NumberOfMissingValues', '#text': '0.0'}, {'@name': 'NumberOfNumericFeatures', '#text': '7.0'}, {'@name': 'NumberOfSymbolicFeatures', '#text': '14.0'}]}\n",
      "  return __list_tasks(api_call=api_call, output_format=output_format)\n",
      "c:\\Users\\25644574\\AppData\\Local\\Programs\\Python\\Python313\\Lib\\site-packages\\openml\\tasks\\functions.py:234: RuntimeWarning: Invalid xml for task 362156: 33\n",
      "From {'oml:task_id': '362156', 'oml:task_type_id': '1', 'oml:task_type': 'Supervised Classification', 'oml:did': '31', 'oml:name': 'credit-g', 'oml:status': 'active', 'oml:format': 'ARFF', 'oml:input': [{'@name': 'estimation_procedure', '#text': '33'}, {'@name': 'source_data', '#text': '31'}, {'@name': 'target_feature', '#text': 'target_column_name'}], 'oml:quality': [{'@name': 'MajorityClassSize', '#text': '700.0'}, {'@name': 'MaxNominalAttDistinctValues', '#text': '10.0'}, {'@name': 'MinorityClassSize', '#text': '300.0'}, {'@name': 'NumberOfClasses', '#text': '2.0'}, {'@name': 'NumberOfFeatures', '#text': '21.0'}, {'@name': 'NumberOfInstances', '#text': '1000.0'}, {'@name': 'NumberOfInstancesWithMissingValues', '#text': '0.0'}, {'@name': 'NumberOfMissingValues', '#text': '0.0'}, {'@name': 'NumberOfNumericFeatures', '#text': '7.0'}, {'@name': 'NumberOfSymbolicFeatures', '#text': '14.0'}]}\n",
      "  return __list_tasks(api_call=api_call, output_format=output_format)\n"
     ]
    },
    {
     "name": "stdout",
     "output_type": "stream",
     "text": [
      "❌ No matching regression datasets found.\n"
     ]
    }
   ],
   "source": [
    "import openml\n",
    "import pandas as pd\n",
    "from tqdm import tqdm\n",
    "\n",
    "# Step 1: Get all regression tasks\n",
    "tasks = openml.tasks.list_tasks(output_format='dataframe')\n",
    "regression_tasks = tasks[tasks['task_type'] == 'Supervised Regression']\n",
    "\n",
    "# Step 2: Get unique dataset IDs from these regression tasks\n",
    "regression_dataset_ids = set(regression_tasks['did'])\n",
    "\n",
    "# Step 3: List all datasets and filter by:\n",
    "# - regression task\n",
    "# - numeric only\n",
    "# - no missing values\n",
    "# - specific feature counts\n",
    "target_feature_counts = set(range(160,190))\n",
    "datasets_df = openml.datasets.list_datasets(output_format='dataframe')\n",
    "\n",
    "filtered_df = datasets_df[\n",
    "    (datasets_df['did'].isin(regression_dataset_ids)) &\n",
    "    (datasets_df['NumberOfFeatures'].isin(target_feature_counts)) &\n",
    "    (datasets_df['NumberOfMissingValues'] == 0) &\n",
    "    (datasets_df['NumberOfSymbolicFeatures'] == 0) &\n",
    "    (datasets_df['NumberOfNumericFeatures'] == datasets_df['NumberOfFeatures']) &\n",
    "    (datasets_df['NumberOfInstances'] > 0)\n",
    "]\n",
    "\n",
    "# Step 4: Show results\n",
    "if not filtered_df.empty:\n",
    "    print(\"✅ Matching regression datasets:\\n\")\n",
    "    display_cols = ['did', 'name', 'NumberOfInstances', 'NumberOfFeatures']\n",
    "    print(filtered_df[display_cols].sort_values(by='NumberOfFeatures'))\n",
    "else:\n",
    "    print(\"❌ No matching regression datasets found.\")\n"
   ]
  }
 ],
 "metadata": {
  "kernelspec": {
   "display_name": "Python 3",
   "language": "python",
   "name": "python3"
  },
  "language_info": {
   "codemirror_mode": {
    "name": "ipython",
    "version": 3
   },
   "file_extension": ".py",
   "mimetype": "text/x-python",
   "name": "python",
   "nbconvert_exporter": "python",
   "pygments_lexer": "ipython3",
   "version": "3.13.1"
  }
 },
 "nbformat": 4,
 "nbformat_minor": 2
}
