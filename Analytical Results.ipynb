{
 "cells": [
  {
   "cell_type": "markdown",
   "metadata": {},
   "source": [
    "Now let us find the RMSE and R Squared for each of the k features and select the optimal number"
   ]
  },
  {
   "cell_type": "code",
   "execution_count": 2,
   "metadata": {},
   "outputs": [],
   "source": [
    "import pickle\n",
    "import pandas as pd\n",
    "from sklearn.metrics import mean_squared_error, r2_score\n",
    "import numpy as np\n",
    "\n",
    "# Load model predictions\n",
    "with open(\"Data/model_predictions.pkl\", \"rb\") as f:\n",
    "    model_predictions = pickle.load(f)\n",
    "\n",
    "summary = []\n",
    "\n",
    "for dataset_name, k_data in model_predictions.items():\n",
    "    val_rmse_scores = {}\n",
    "    val_r2_scores = {}\n",
    "\n",
    "    for k, models in k_data.items():\n",
    "        if \"LinearRegression\" not in models or \"error\" in models[\"LinearRegression\"]:\n",
    "            continue\n",
    "\n",
    "        try:\n",
    "            y_val = models[\"LinearRegression\"][\"y_val\"]\n",
    "            y_val_pred = models[\"LinearRegression\"][\"y_val_pred\"]\n",
    "            y_test = models[\"LinearRegression\"][\"y_test\"]\n",
    "            y_test_pred = models[\"LinearRegression\"][\"y_test_pred\"]\n",
    "\n",
    "            # Compute validation metrics\n",
    "            rmse_val = mean_squared_error(y_val, y_val_pred) ** 0.5\n",
    "            r2_val = r2_score(y_val, y_val_pred)\n",
    "\n",
    "            val_rmse_scores[k] = rmse_val\n",
    "            val_r2_scores[k] = r2_val\n",
    "\n",
    "        except Exception as e:\n",
    "            print('It hit here')\n",
    "            continue\n",
    "\n",
    "    if len(val_rmse_scores) == 0:\n",
    "        continue  # Skip if nothing was computed\n",
    "\n",
    "    # Get k with best RMSE and best R² on validation\n",
    "    best_k_rmse = min(val_rmse_scores, key=val_rmse_scores.get)\n",
    "    best_k_r2 = max(val_r2_scores, key=val_r2_scores.get)\n",
    "\n",
    "    # Compute test RMSE and R² at best k\n",
    "    test_rmse = mean_squared_error(\n",
    "        model_predictions[dataset_name][best_k_rmse][\"LinearRegression\"][\"y_test\"],\n",
    "        model_predictions[dataset_name][best_k_rmse][\"LinearRegression\"][\"y_test_pred\"]\n",
    "    ) ** 0.5\n",
    "\n",
    "    test_r2 = r2_score(\n",
    "        model_predictions[dataset_name][best_k_r2][\"LinearRegression\"][\"y_test\"],\n",
    "        model_predictions[dataset_name][best_k_r2][\"LinearRegression\"][\"y_test_pred\"]\n",
    "    )\n",
    "\n",
    "    summary.append({\n",
    "        \"Dataset\": dataset_name,\n",
    "        \"Best_k_RMSE\": best_k_rmse,\n",
    "        \"Val_RMSE\": val_rmse_scores[best_k_rmse],\n",
    "        \"Test_RMSE\": test_rmse,\n",
    "        \"Best_k_R2\": best_k_r2,\n",
    "        \"Val_R2\": val_r2_scores[best_k_r2],\n",
    "        \"Test_R2\": test_r2\n",
    "    })\n",
    "\n",
    "# Convert to DataFrame\n",
    "df_summary = pd.DataFrame(summary)"
   ]
  },
  {
   "cell_type": "markdown",
   "metadata": {},
   "source": [
    "Finding the RMSE and R Squared for Dynamically Selected K"
   ]
  },
  {
   "cell_type": "code",
   "execution_count": 8,
   "metadata": {},
   "outputs": [],
   "source": [
    "# Load dynamic model predictions\n",
    "with open(\"Data/dynamic_model_predictions.pkl\", \"rb\") as f:\n",
    "    dynamic_model_predictions = pickle.load(f)\n",
    "\n",
    "# Extract RMSE and R² for Linear Regression\n",
    "summary_dynamic_lr = []\n",
    "\n",
    "for dataset_name, model_data in dynamic_model_predictions.items():\n",
    "    lr_data = model_data.get(\"LinearRegression\", {})\n",
    "\n",
    "    if \"error\" in lr_data:\n",
    "        print('IT HIT HERE')\n",
    "        continue\n",
    "\n",
    "    try:\n",
    "        y_test = lr_data[\"y_test\"]\n",
    "        y_test_pred = lr_data[\"y_test_pred\"]\n",
    "\n",
    "        test_mse = mean_squared_error(y_test, y_test_pred)\n",
    "        test_rmse = np.sqrt(test_mse)\n",
    "        test_r2 = r2_score(y_test, y_test_pred)\n",
    "\n",
    "        summary_dynamic_lr.append({\n",
    "            \"Dataset\": dataset_name,\n",
    "            \"Selected_k\": model_data.get(\"k\", \"N/A\"),\n",
    "            \"Test_RMSE\": test_rmse,\n",
    "            \"Test_R2\": test_r2\n",
    "        })\n",
    "    except Exception as e:\n",
    "        print(f\"⚠️ Error in {dataset_name}: {e}\")\n",
    "        continue\n",
    "\n",
    "# Convert to DataFrame\n",
    "df_dynamic_lr_summary = pd.DataFrame(summary_dynamic_lr)"
   ]
  },
  {
   "cell_type": "markdown",
   "metadata": {},
   "source": [
    "Concatenating the two"
   ]
  },
  {
   "cell_type": "code",
   "execution_count": 14,
   "metadata": {},
   "outputs": [],
   "source": [
    "# Drop 'Val_RMSE' and 'Val_R2' from df_summary\n",
    "df_summary_trimmed = df_summary.drop(columns=['Val_RMSE', 'Val_R2'])\n",
    "\n",
    "# Rename columns in df_dynamic_lr_summary for clarity\n",
    "df_dynamic_renamed = df_dynamic_lr_summary.rename(columns={\n",
    "    \"Selected_k\": \"Selected_k_Dynamic\",\n",
    "    \"Test_RMSE\": \"Test_RMSE_Dynamic\",\n",
    "    \"Test_R2\": \"Test_R2_Dynamic\"\n",
    "})\n",
    "\n",
    "# Merge the two DataFrames on 'Dataset'\n",
    "final_df = pd.merge(df_summary_trimmed, df_dynamic_renamed, on='Dataset')"
   ]
  },
  {
   "cell_type": "markdown",
   "metadata": {},
   "source": [
    "Comparing results"
   ]
  },
  {
   "cell_type": "code",
   "execution_count": 16,
   "metadata": {},
   "outputs": [],
   "source": [
    "final_df[\"Better_RMSE_Dynamic\"] = final_df[\"Test_RMSE_Dynamic\"] < final_df[\"Test_RMSE\"]\n",
    "final_df[\"Better_R2_Dynamic\"] = final_df[\"Test_R2_Dynamic\"] > final_df[\"Test_R2\"]\n",
    "\n",
    "# Convert boolean values to \"Yes\"/\"No\"\n",
    "final_df[\"Better_RMSE_Dynamic\"] = final_df[\"Better_RMSE_Dynamic\"].map({True: \"Yes\", False: \"No\"})\n",
    "final_df[\"Better_R2_Dynamic\"] = final_df[\"Better_R2_Dynamic\"].map({True: \"Yes\", False: \"No\"})\n"
   ]
  }
 ],
 "metadata": {
  "kernelspec": {
   "display_name": "Python 3",
   "language": "python",
   "name": "python3"
  },
  "language_info": {
   "codemirror_mode": {
    "name": "ipython",
    "version": 3
   },
   "file_extension": ".py",
   "mimetype": "text/x-python",
   "name": "python",
   "nbconvert_exporter": "python",
   "pygments_lexer": "ipython3",
   "version": "3.13.1"
  }
 },
 "nbformat": 4,
 "nbformat_minor": 2
}
