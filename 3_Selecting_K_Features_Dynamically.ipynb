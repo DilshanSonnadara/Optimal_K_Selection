{
 "cells": [
  {
   "cell_type": "markdown",
   "metadata": {},
   "source": [
    "# Selecting the optimal number of features dynamically"
   ]
  },
  {
   "cell_type": "code",
   "execution_count": 1,
   "metadata": {},
   "outputs": [
    {
     "name": "stdout",
     "output_type": "stream",
     "text": [
      "🔍 Processing fri_c1_500_50...\n",
      "✅ fri_c1_500_50: Selected 18 features in 2.84 seconds.\n",
      "🔍 Processing fri_c3_1000_50...\n",
      "✅ fri_c3_1000_50: Selected 19 features in 4.72 seconds.\n",
      "🔍 Processing fri_c4_500_50...\n",
      "✅ fri_c4_500_50: Selected 21 features in 2.33 seconds.\n",
      "🔍 Processing fri_c4_1000_50...\n",
      "✅ fri_c4_1000_50: Selected 20 features in 3.99 seconds.\n",
      "🔍 Processing fri_c2_1000_25...\n",
      "✅ fri_c2_1000_25: Selected 11 features in 1.15 seconds.\n",
      "🔍 Processing fri_c1_1000_25...\n",
      "✅ fri_c1_1000_25: Selected 9 features in 1.03 seconds.\n",
      "🔍 Processing fri_c3_1000_25...\n",
      "✅ fri_c3_1000_25: Selected 12 features in 1.24 seconds.\n",
      "🔍 Processing BodyFat...\n",
      "✅ BodyFat: Selected 6 features in 0.23 seconds.\n",
      "🔍 Processing Forest_Fires...\n"
     ]
    },
    {
     "name": "stderr",
     "output_type": "stream",
     "text": [
      "c:\\Users\\25644574\\AppData\\Local\\Programs\\Python\\Python313\\Lib\\site-packages\\sklearn\\utils\\validation.py:1408: DataConversionWarning: A column-vector y was passed when a 1d array was expected. Please change the shape of y to (n_samples, ), for example using ravel().\n",
      "  y = column_or_1d(y, warn=True)\n"
     ]
    },
    {
     "name": "stdout",
     "output_type": "stream",
     "text": [
      "✅ Forest_Fires: Selected 6 features in 0.93 seconds.\n",
      "🔍 Processing Quakes...\n",
      "✅ Quakes: Selected 1 features in 0.05 seconds.\n",
      "🔍 Processing Servo...\n",
      "✅ Servo: Selected 5 features in 0.10 seconds.\n",
      "🔍 Processing auto93...\n"
     ]
    },
    {
     "name": "stderr",
     "output_type": "stream",
     "text": [
      "c:\\Users\\25644574\\AppData\\Local\\Programs\\Python\\Python313\\Lib\\site-packages\\sklearn\\utils\\validation.py:1408: DataConversionWarning: A column-vector y was passed when a 1d array was expected. Please change the shape of y to (n_samples, ), for example using ravel().\n",
      "  y = column_or_1d(y, warn=True)\n"
     ]
    },
    {
     "name": "stdout",
     "output_type": "stream",
     "text": [
      "✅ auto93: Selected 28 features in 1.39 seconds.\n",
      "🔍 Processing autoPrice...\n",
      "✅ autoPrice: Selected 2 features in 0.05 seconds.\n",
      "🔍 Processing autoMPG...\n",
      "✅ autoMPG: Selected 4 features in 0.06 seconds.\n",
      "🔍 Processing Concrete_Compressive_Strength...\n",
      "✅ Concrete_Compressive_Strength: Selected 2 features in 0.08 seconds.\n",
      "🔍 Processing Airfoil_Self_Noise...\n"
     ]
    },
    {
     "name": "stderr",
     "output_type": "stream",
     "text": [
      "c:\\Users\\25644574\\AppData\\Local\\Programs\\Python\\Python313\\Lib\\site-packages\\sklearn\\utils\\validation.py:1408: DataConversionWarning: A column-vector y was passed when a 1d array was expected. Please change the shape of y to (n_samples, ), for example using ravel().\n",
      "  y = column_or_1d(y, warn=True)\n",
      "c:\\Users\\25644574\\AppData\\Local\\Programs\\Python\\Python313\\Lib\\site-packages\\sklearn\\utils\\validation.py:1408: DataConversionWarning: A column-vector y was passed when a 1d array was expected. Please change the shape of y to (n_samples, ), for example using ravel().\n",
      "  y = column_or_1d(y, warn=True)\n",
      "c:\\Users\\25644574\\AppData\\Local\\Programs\\Python\\Python313\\Lib\\site-packages\\sklearn\\utils\\validation.py:1408: DataConversionWarning: A column-vector y was passed when a 1d array was expected. Please change the shape of y to (n_samples, ), for example using ravel().\n",
      "  y = column_or_1d(y, warn=True)\n"
     ]
    },
    {
     "name": "stdout",
     "output_type": "stream",
     "text": [
      "✅ Airfoil_Self_Noise: Selected 2 features in 0.08 seconds.\n",
      "🔍 Processing pyrim...\n",
      "✅ pyrim: Selected 15 features in 0.28 seconds.\n",
      "🔍 Processing boston...\n",
      "✅ boston: Selected 7 features in 0.26 seconds.\n",
      "🔍 Processing Wine_Quality...\n"
     ]
    },
    {
     "name": "stderr",
     "output_type": "stream",
     "text": [
      "c:\\Users\\25644574\\AppData\\Local\\Programs\\Python\\Python313\\Lib\\site-packages\\sklearn\\utils\\validation.py:1408: DataConversionWarning: A column-vector y was passed when a 1d array was expected. Please change the shape of y to (n_samples, ), for example using ravel().\n",
      "  y = column_or_1d(y, warn=True)\n"
     ]
    },
    {
     "name": "stdout",
     "output_type": "stream",
     "text": [
      "✅ Wine_Quality: Selected 1 features in 0.57 seconds.\n",
      "🔍 Processing California_Housing...\n",
      "✅ California_Housing: Selected 2 features in 1.74 seconds.\n",
      "\n",
      "🎯 All datasets processed. Results saved to 'Data/dynamic_selected_features.pkl'.\n"
     ]
    }
   ],
   "source": [
    "import pickle\n",
    "import os\n",
    "import time\n",
    "from mrmr_dynamic_selection import MRMR\n",
    "\n",
    "# Load the encoded split data\n",
    "with open(\"Data/encoded_split_data.pkl\", \"rb\") as f:\n",
    "    split_data = pickle.load(f)\n",
    "\n",
    "# Dictionary to store results\n",
    "dynamic_feature_selection_results = {}\n",
    "\n",
    "# Process each dataset\n",
    "for name, data in split_data.items():\n",
    "    print(f\"🔍 Processing {name}...\")\n",
    "    X_train = data[\"X_train\"]\n",
    "    X_val = data[\"X_val\"]\n",
    "    X_test = data[\"X_test\"]\n",
    "    y_train = data[\"y_train\"]\n",
    "    y_val = data[\"y_val\"]\n",
    "    y_test = data[\"y_test\"]\n",
    "\n",
    "    # Determine which features are discrete (flag bools as discrete)\n",
    "    discrete_flags = [\n",
    "        True if dtype == bool else False  # Flag only bools as discrete\n",
    "        for dtype in X_train.dtypes\n",
    "    ]\n",
    "\n",
    "    # Convert bool columns to int (0/1) in all splits\n",
    "    for df in [X_train, X_val, X_test]:\n",
    "        bool_cols = df.select_dtypes(include='bool').columns\n",
    "        df[bool_cols] = df[bool_cols].astype(int)\n",
    "\n",
    "    try:\n",
    "\n",
    "        # Run dynamic MRMR\n",
    "        selector = MRMR(\n",
    "            variables=X_train.columns.tolist(),\n",
    "            method=\"MID\",\n",
    "            discrete_features=discrete_flags,\n",
    "            regression=True,\n",
    "            random_state=42\n",
    "        )\n",
    "        start = time.time()\n",
    "        selector.fit(X_train, y_train)\n",
    "        elapsed = time.time() - start\n",
    "\n",
    "        # Transform the datasets\n",
    "        X_train_sel = selector.transform(X_train)\n",
    "        X_val_sel = selector.transform(X_val)\n",
    "        X_test_sel = selector.transform(X_test)\n",
    "\n",
    "        # Save everything to dictionary\n",
    "        dynamic_feature_selection_results[name] = {\n",
    "            \"k\": X_train_sel.shape[1],\n",
    "            \"X_train\": X_train_sel,\n",
    "            \"X_val\": X_val_sel,\n",
    "            \"X_test\": X_test_sel,\n",
    "            \"y_train\": y_train,\n",
    "            \"y_val\": y_val,\n",
    "            \"y_test\": y_test,\n",
    "            \"time\": elapsed\n",
    "        }\n",
    "\n",
    "        print(f\"✅ {name}: Selected {X_train_sel.shape[1]} features in {elapsed:.2f} seconds.\")\n",
    "\n",
    "    except Exception as e:\n",
    "        print(f\"❌ Error processing {name}: {e}\")\n",
    "        dynamic_feature_selection_results[name] = {\n",
    "            \"error\": str(e)\n",
    "        }\n",
    "\n",
    "# Save the results\n",
    "os.makedirs(\"Data\", exist_ok=True)\n",
    "with open(\"Data/dynamic_selected_features.pkl\", \"wb\") as f:\n",
    "    pickle.dump(dynamic_feature_selection_results, f)\n",
    "\n",
    "print(\"\\n🎯 All datasets processed. Results saved to 'Data/dynamic_selected_features.pkl'.\")"
   ]
  },
  {
   "cell_type": "markdown",
   "metadata": {},
   "source": [
    "# Selecting features for the simulated datasets"
   ]
  },
  {
   "cell_type": "code",
   "execution_count": 1,
   "metadata": {},
   "outputs": [
    {
     "name": "stdout",
     "output_type": "stream",
     "text": [
      "🔍 Processing sim_10...\n",
      "✅ sim_10: Selected 7 features in 0.17 seconds.\n",
      "🔍 Processing sim_20...\n",
      "✅ sim_20: Selected 9 features in 0.46 seconds.\n",
      "🔍 Processing sim_30...\n",
      "✅ sim_30: Selected 19 features in 1.08 seconds.\n",
      "🔍 Processing sim_40...\n",
      "✅ sim_40: Selected 17 features in 1.21 seconds.\n",
      "🔍 Processing sim_50...\n",
      "✅ sim_50: Selected 16 features in 2.11 seconds.\n",
      "🔍 Processing sim_60...\n",
      "✅ sim_60: Selected 22 features in 2.90 seconds.\n",
      "🔍 Processing sim_70...\n",
      "✅ sim_70: Selected 33 features in 5.09 seconds.\n",
      "🔍 Processing sim_80...\n",
      "✅ sim_80: Selected 32 features in 5.22 seconds.\n",
      "🔍 Processing sim_90...\n",
      "✅ sim_90: Selected 28 features in 4.88 seconds.\n",
      "🔍 Processing sim_100...\n",
      "✅ sim_100: Selected 44 features in 7.62 seconds.\n",
      "🔍 Processing sim_110...\n",
      "✅ sim_110: Selected 40 features in 8.31 seconds.\n",
      "🔍 Processing sim_120...\n",
      "✅ sim_120: Selected 51 features in 12.23 seconds.\n",
      "🔍 Processing sim_130...\n",
      "✅ sim_130: Selected 47 features in 13.80 seconds.\n",
      "🔍 Processing sim_140...\n",
      "✅ sim_140: Selected 48 features in 13.17 seconds.\n",
      "🔍 Processing sim_150...\n",
      "✅ sim_150: Selected 62 features in 16.41 seconds.\n",
      "\n",
      "🎯 All datasets processed. Results saved to 'Data/dynamic_selected_features_simulated.pkl'.\n"
     ]
    }
   ],
   "source": [
    "import pickle\n",
    "import os\n",
    "import time\n",
    "from mrmr_dynamic_selection import MRMR\n",
    "\n",
    "# Load the encoded split data\n",
    "with open(\"Data/encoded_split_data_simulated.pkl\", \"rb\") as f:\n",
    "    split_data = pickle.load(f)\n",
    "\n",
    "# Dictionary to store results\n",
    "dynamic_feature_selection_results = {}\n",
    "\n",
    "# Process each dataset\n",
    "for name, data in split_data.items():\n",
    "    print(f\"🔍 Processing {name}...\")\n",
    "    X_train = data[\"X_train\"]\n",
    "    X_val = data[\"X_val\"]\n",
    "    X_test = data[\"X_test\"]\n",
    "    y_train = data[\"y_train\"]\n",
    "    y_val = data[\"y_val\"]\n",
    "    y_test = data[\"y_test\"]\n",
    "\n",
    "    try:\n",
    "\n",
    "        # Run dynamic MRMR\n",
    "        selector = MRMR(\n",
    "            method=\"MID\",\n",
    "            regression=True,\n",
    "            random_state=42\n",
    "        )\n",
    "        start = time.time()\n",
    "        selector.fit(X_train, y_train)\n",
    "        elapsed = time.time() - start\n",
    "\n",
    "        # Transform the datasets\n",
    "        X_train_sel = selector.transform(X_train)\n",
    "        X_val_sel = selector.transform(X_val)\n",
    "        X_test_sel = selector.transform(X_test)\n",
    "\n",
    "        # Save everything to dictionary\n",
    "        dynamic_feature_selection_results[name] = {\n",
    "            \"k\": X_train_sel.shape[1],\n",
    "            \"X_train\": X_train_sel,\n",
    "            \"X_val\": X_val_sel,\n",
    "            \"X_test\": X_test_sel,\n",
    "            \"y_train\": y_train,\n",
    "            \"y_val\": y_val,\n",
    "            \"y_test\": y_test,\n",
    "            \"time\": elapsed\n",
    "        }\n",
    "\n",
    "        print(f\"✅ {name}: Selected {X_train_sel.shape[1]} features in {elapsed:.2f} seconds.\")\n",
    "\n",
    "    except Exception as e:\n",
    "        print(f\"❌ Error processing {name}: {e}\")\n",
    "        dynamic_feature_selection_results[name] = {\n",
    "            \"error\": str(e)\n",
    "        }\n",
    "\n",
    "# Save the results\n",
    "os.makedirs(\"Data\", exist_ok=True)\n",
    "with open(\"Data/dynamic_selected_features_simulated.pkl\", \"wb\") as f:\n",
    "    pickle.dump(dynamic_feature_selection_results, f)\n",
    "\n",
    "print(\"\\n🎯 All datasets processed. Results saved to 'Data/dynamic_selected_features_simulated.pkl'.\")"
   ]
  }
 ],
 "metadata": {
  "kernelspec": {
   "display_name": "Python 3",
   "language": "python",
   "name": "python3"
  },
  "language_info": {
   "codemirror_mode": {
    "name": "ipython",
    "version": 3
   },
   "file_extension": ".py",
   "mimetype": "text/x-python",
   "name": "python",
   "nbconvert_exporter": "python",
   "pygments_lexer": "ipython3",
   "version": "3.13.1"
  }
 },
 "nbformat": 4,
 "nbformat_minor": 2
}
